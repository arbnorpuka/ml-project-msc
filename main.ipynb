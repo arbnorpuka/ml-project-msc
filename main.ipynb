{
 "cells": [
  {
   "cell_type": "markdown",
   "metadata": {},
   "source": [
    "<style>\n",
    "    p {\n",
    "        font-family: 'Times New Roman', Times, serif;\n",
    "        text-align: center;\n",
    "        font-size: 24px;\n",
    "        margin: 0\n",
    "    }\n",
    "</style>\n",
    "<p>UNIVERSITETI I PRISHTINËS</<p>\n",
    "<p>FAKULTETI I INXHINIERISË ELEKTRIKE DHE KOMPJUTERIKE</p>"
   ]
  },
  {
   "cell_type": "markdown",
   "metadata": {},
   "source": [
    "<center><img src=\"logo.png\" width=\"400\"/></center>"
   ]
  },
  {
   "cell_type": "markdown",
   "metadata": {},
   "source": [
    "<style>\n",
    "    p, h4 {\n",
    "        font-family: 'Times New Roman', Times, serif; \n",
    "        font-size: 24px;\n",
    "        margin: 0;\n",
    "    }\n",
    "    \n",
    "    .header {\n",
    "        display: flex;\n",
    "        justify-content: space-between;\n",
    "    }\n",
    "    \n",
    "    .center-text {\n",
    "        text-align: center;\n",
    "    }\n",
    "</style>\n",
    "\n",
    "<div class=\"center-text\">\n",
    "  <p>\n",
    "    Mësimi i Makinerisë\n",
    "  </p>\n",
    "  <p>\n",
    "    Të dhënat globale të motit\n",
    "  </p>\n",
    "</div>\n",
    "\n",
    "<div class=\"header\">\n",
    "  <h4>\n",
    "    Profesori: Mërgim Hoti\n",
    "  </h4>\n",
    "  <h4>\n",
    "    Studenti: Lirim Islami, Arbnor Puka, Enis Halilaj\n",
    "  </h4>\n",
    "</div>\n"
   ]
  },
  {
   "cell_type": "markdown",
   "metadata": {},
   "source": [
    "<style>\n",
    "    h3 {\n",
    "        font-family: 'Times New Roman', Times, serif; \n",
    "    }\n",
    "\n",
    "    p, li {\n",
    "        font-family: 'Times New Roman', Times, serif; \n",
    "        font-size: 20px;\n",
    "    }\n",
    "</style>\n",
    "<h3><b>Hyrje</b></h3>\n",
    "<p>Ky dataset përmban të dhëna të detajuara mbi motin dhe cilësinë e ajrit të mbledhura nga lokacione të ndryshme në botë. Përdorimi i këtyre të dhënave mund të ndihmojë në analizën e tendencave të motit, ndikimin e tyre në mjedis dhe shëndetin publik, dhe zhvillimin e modeleve prediktive për të parashikuar ndryshime të mëtejshme. Analiza e këtyre të dhënave ofron një mundësi të çmuar për të kuptuar më mirë dinamikat e ndërlikuara atmosferike dhe të ndikimit të ndryshimeve klimatike globale.</p>\n",
    "<h3><b>Përbërja e dataset-it</b></h3>\n",
    "<p>Përbërja e datasetit përmban të dhëna të plota për 32,412 regjistrime, të organizuara në 41 kolona të ndryshme. Këto kolona përmbajnë informacion të detajuar mbi kushtet meteorologjike dhe cilësinë e ajrit nga vende të ndryshme. Ky dokument përmban një përmbledhje të qartë dhe të detajuar të strukturës së datasetit, duke përfshirë përshkrimet kryesore për secilën prej kolonave të tij dhe tipologjinë e të dhënave që përmbajnë. Ky informacion do të ndihmojë në marrjen e një kuptimi të plotë të natyrës dhe kompleksitetit të të dhënave të disponueshme, çka është e rëndësishme për zhvillimin e modeleve të sakta prediktive në fushën e Machine Learning: </p>\n",
    "<li><b>country</b>: Emri i shtetit ku janë marrë matjet, të dhëna tekstuale.</li>\n",
    "<li><b>location_name</b>: Emri specifik i lokacionit brenda shtetit, të dhëna tekstuale.</li>\n",
    "<li><b>latitude</b>: Vlera numerike që tregon latitudën gjeografike të lokacionit të matjes, në gradë.</li>\n",
    "<li><b>longitude</b>: Vlera numerike që tregon longitudën gjeografike të lokacionit të matjes, në gradë.</li>\n",
    "<li><b>timezone</b>: Zona kohore për lokacionin specifik, të dhëna tekstuale.</li>\n",
    "<li><b>last_updated_epoch</b>: Koha e fundit e përditësimit të të dhënave, e dhënë si kohë epoch, numerike.</li>\n",
    "<li><b>last_updated</b>: Koha e fundit e përditësimit të të dhënave, e shprehur në formatin standard date dhe orë, të dhëna tekstuale.</li>\n",
    "<li><b>temperature_celsius</b>: Temperatura aktuale në gradë Celsius, të dhëna numerike.</li>\n",
    "<li><b>temperature_fahrenheit</b>: Temperatura aktuale në gradë Fahrenheit, të dhëna numerike.</li>\n",
    "<li><b>condition_text</b>: Përshkrimi i kushteve të motit në momentin e matjes, si p.sh. \"vranët\", \"diellor\", etj., të dhëna tekstuale.</li>\n",
    "<li><b>wind_mph</b>: Shpejtësia e erës në milje për orë, të dhëna numerike.</li>\n",
    "<li><b>wind_kph</b>: Shpejtësia e erës në kilometra për orë, të dhëna numerike.</li>\n",
    "<li><b>wind_degree</b>: Drejtimi i erës në gradë, të dhëna numerike.</li>\n",
    "<li><b>wind_direction</b>: Drejtimi i erës shprehur si një shkronjë ose kombinim shkronjash (p.sh., N, NE), të dhëna tekstuale.</li>\n",
    "<li><b>pressure_mb</b>: Presioni atmosferik në millibarë, të dhëna numerike.</li>\n",
    "<li><b>pressure_in</b>: Presioni atmosferik në inç, të dhëna numerike.</li>\n",
    "<li><b>precip_mm</b>: Sasia e reshjeve në milimetra gjatë periudhës së matjes, të dhëna numerike.</li>\n",
    "<li><b>precip_in</b>: Sasia e reshjeve në inç gjatë periudhës së matjes, të dhëna numerike.</li>\n",
    "<li><b>humidity</b>: Niveli i lagështisë në ajër, e shprehur në përqindje, të dhëna numerike.</li>\n",
    "<li><b>cloud</b>: Përqindja e mbulimit të qiellit me re, të dhëna numerike.</li>\n",
    "<li><b>feels_like_celsius</b>: Ndjesia e temperaturës në gradë Celsius, e ndikuar nga faktorë si era dhe lagështia, të dhëna numerike.</li>\n",
    "<li><b>feels_like_fahrenheit</b>: Ndjesia e temperaturës në gradë Fahrenheit, e ndikuar nga faktorë si era dhe lagështia, të dhëna numerike.</li>\n",
    "<li><b>visibility_km</b>: Dukshmëria në kilometra, të dhëna numerike.</li>\n",
    "<li><b>visibility_miles</b>: Dukshmëria në milje, të dhëna numerike.</li>\n",
    "<li><b>uv_index</b>: Indeksi i rrezatimit ultravjollcë, të dhëna numerike.</li>\n",
    "<li><b>gust_mph</b>: Shpejtësia maksimale e rafalave të erës në milje për orë gjatë periudhës së matjes, të dhëna numerike.</li>\n",
    "<li><b>gust_kph</b>: Shpejtësia maksimale e rafalave të erës në kilometra për orë gjatë periudhës së matjes, të dhëna numerike.</li>\n",
    "<li><b>air_quality_Carbon_Monoxide</b>: Niveli i monoksidit të karbonit në ajër, të dhëna numerike.</li>\n",
    "<li><b>air_quality_Ozone</b>: Niveli i ozonit në ajër, të dhëna numerike.</li>\n",
    "<li><b>air_quality_Nitrogen_dioxide</b>: Niveli i dioksidit të azotit në ajër, të dhëna numerike.</li>\n",
    "<li><b>air_quality_Sulphur_dioxide</b>: Niveli i dioksidit të squfurit në ajër, të dhëna numerike.</li>\n",
    "<li><b>air_quality_PM2.5</b>: Matja e grimcave të imëta PM2.5 në ajër, të dhëna numerike.</li>\n",
    "<li><b>air_quality_PM10</b>: Matja e grimcave të imëta PM10 në ajër, të dhëna numerike.</li>\n",
    "<li><b>air_quality_us-epa-index</b>: Indeksi i cilësisë së ajrit sipas standardeve të Agjencisë për Mbrojtjen e Ambientit (EPA) të SHBA-së, të dhëna numerike.</li>\n",
    "<li><b>air_quality_gb-defra-index</b>: Indeksi i cilësisë së ajrit sipas standardeve të Agjencisë për Mjedisin, Ushqimin dhe Çështjet Rurale (DEFRA) të Mbretërisë së Bashkuar, të dhëna numerike.</li>\n",
    "<li><b>moon_illumination</b>: Përqindja e ndriçimit të hënës, të dhëna numerike.</li>\n",
    "<li><b>sunrise</b>: Koha e lindjes së diellit, të dhëna tekstuale.</li>\n",
    "<li><b>sunset</b>: Koha e perëndimit të diellit, të dhëna tekstuale.</li>\n",
    "<li><b>moonrise</b>: Koha e lindjes së hënës, të dhëna tekstuale.</li>\n",
    "<li><b>moonset</b>: Koha e perëndimit të hënës, të dhëna tekstuale.</li>\n",
    "<li><b>sun_hour</b>: Numri i orëve të diellit gjatë ditës, të dhëna numerike.</li>"
   ]
  },
  {
   "cell_type": "markdown",
   "metadata": {},
   "source": [
    "<style>\n",
    "    h3 {\n",
    "        font-family: 'Times New Roman', Times, serif; \n",
    "    }\n",
    "\n",
    "    p, li {\n",
    "        font-family: 'Times New Roman', Times, serif; \n",
    "        font-size: 20px;\n",
    "    }\n",
    "</style>\n",
    "<h3><b>Objektivi i Analizës</b></h3>\n",
    "<p>Në këtë projekt të Machine Learning, qëllimi jonë është të përdorim datasetin e të dhënave meteorologjike dhe cilësisë së ajrit për të ndërtuar një model parashikues që mund të vlerësojë ndikimin e faktorëve të ndryshëm në cilësinë e ajrit. Për të realizuar këtë qëllim, kemi përcaktuar disa objektiva kryesore:</p>\n",
    "<li><b>Parashikimi i cilësisë së ajrit</b></li>\n",
    "<p>Synojmë të parashikojmë një masë specifike të cilësisë së ajrit, duke përdorur si target një nga variablat: indeksi <b>air_quality_us-epa-index</b>, <b>air_quality_PM2.5</b>, ose <b>air_quality_PM10</b>. Ky objektiv është thelbësor për identifikimin e ditëve me ndotje të lartë dhe për ofrimin e paralajmërimeve të hershme për menaxhimin mjedisor.</p>\n",
    "\n",
    "<li><b>Parashikimi i temperaturës</b></li>\n",
    "<p>Një alternativë është parashikimi i temperaturës aktuale, duke zgjedhur <b>temperature_celsius</b> ose <b>temperature_fahrenheit</b> si target. Ky model ndihmon në analizën e ndikimit të faktorëve meteorologjikë në ndryshimet klimatike lokale.</p>\n",
    "\n",
    "<li><b>Klasifikimi i kushteve të motit</b></li>\n",
    "<p>Duke përdorur <b>condition_text</b> si target, mund të ndërtojmë një model klasifikimi që ndan kategoritë e ndryshme të motit (p.sh., diellor, me re, reshje, etj.). Kjo analizë do të ofrojë një kuptim më të hollësishëm të marrëdhënieve ndërmjet kushteve meteorologjike dhe cilësisë së ajrit.</p>"
   ]
  },
  {
   "cell_type": "markdown",
   "metadata": {},
   "source": [
    "<style>\n",
    "    h3 {\n",
    "        font-family: 'Times New Roman', Times, serif; \n",
    "    }\n",
    "\n",
    "    p, li {\n",
    "        font-family: 'Times New Roman', Times, serif; \n",
    "        font-size: 20px;\n",
    "    }\n",
    "</style>\n",
    "<h3><b>Përpunimi i të dhënave (Data Preprocessing)</b></h3>\n",
    "<li><b>Përcaktimi i llojit të të dhënave: </b>Identifikimi se cilat kolona janë numerike, kategorike apo tekstuale, si dhe vlerësimi nëse ka tipare të vazhdueshme apo diskrete. Kjo ndihmon të planifikojmë strategjinë e duhur të normalizimit dhe analizës për secilin tip të dhënash</li>\n",
    "<li><b>Pastrimi i të dhënave: </b>Në këtë fazë heqim duplikimet dhe trajtojmë vlerat e munguara. Në varësi të shkallës së mungesave, mund të aplikojmë metoda imputimi (mesatare, medianë, vlera më e shpeshtë) ose të eleminojmë rreshtat/kolonat e papërdorshme.</li>\n",
    "<li><b>Heqja e outliers:</b>Analizojmë kolonat numerike për të zbuluar vlera anormale (p.sh. me boxplot ose rregullin e 1.5 IQR). Në varësi të ndikimit të tyre në cilësinë e modelit, mund të vendosim t’i largojmë, t’i zëvendësojmë ose t’i mbajmë për të ruajtur diversitetin e të dhënave.</li>\n",
    "<li><b>Balancimi i datasetit:</b>Nëse kemi klasa të pabalancuara, mund të aplikojmë metoda si oversampling (SMOTE, ADASYN) ose undersampling për të siguruar që modeli të mos anojë vetëm drejt klasës shumicë. Kjo ndihmon në rritjen e saktësisë dhe qëndrueshmërisë së modelit</li>\n",
    "<li><b>Normalizimi i të dhënave:</b> Pasi të kemi hequr outliers dhe balancuar datasetin, mund të aplikojmë teknika si min-max scaling ose standardizimi (Z-score) për t’i sjellë kolonat numerike në një diapazon të përbashkët. Kjo është e dobishme sidomos për algoritme që ndikohen nga shkallët e ndryshme të vlerave.</li>\n",
    "<li><b>Reduktimi i dimensioneve:</b> Në rast se kemi shumë kolona ose duam të eliminojmë korrelacionet e tepërta, mund të përdorim teknika si PCA (Principal Component Analysis) apo metoda të tjera, me qëllim rritjen e performancës dhe zvogëlimin e mbingarkesës llogaritëse.</li> \n",
    "<li><b>Transformimi i të dhënave:</b> Në këtë hap, mund të bëjmë çdo transformim tjetër të nevojshëm (p.sh. kodimi i kolonave kategorike me One-Hot Encoding, pastrimi i teksteve, log-transform për kolonat me shpërndarje të shtrembër, etj.). Këto transformime sigurojnë që dataseti të jetë gati për algoritmet e Machine Learning.</li>"
   ]
  },
  {
   "cell_type": "markdown",
   "metadata": {},
   "source": [
    "<h3>Libraritë e përdorura</h3>"
   ]
  },
  {
   "cell_type": "code",
   "execution_count": 2,
   "metadata": {},
   "outputs": [],
   "source": [
    "import pandas as pd\n",
    "import seaborn as sns\n",
    "import matplotlib.pyplot as plt"
   ]
  },
  {
   "cell_type": "markdown",
   "metadata": {},
   "source": [
    "<h3>Leximi i datasetit</h3>"
   ]
  },
  {
   "cell_type": "code",
   "execution_count": null,
   "metadata": {},
   "outputs": [],
   "source": [
    "df = pd.read_csv('dataset/moti-global.csv')"
   ]
  },
  {
   "cell_type": "markdown",
   "metadata": {},
   "source": [
    "<h3>Kualiteti dhe struktura e të dhënave</h3>\n"
   ]
  },
  {
   "cell_type": "code",
   "execution_count": null,
   "metadata": {},
   "outputs": [],
   "source": [
    "display(df.head())\n",
    "\n",
    "display(df.info())\n",
    "\n",
    "display(df.describe())"
   ]
  },
  {
   "cell_type": "markdown",
   "metadata": {},
   "source": [
    "<h3>Definimi i tipeve të të dhënave</h3>"
   ]
  },
  {
   "cell_type": "code",
   "execution_count": null,
   "metadata": {},
   "outputs": [],
   "source": [
    "display(\"Tipet e të dhënave: \\n\")\n",
    "display(df.dtypes)\n",
    "\n",
    "categorical_columns = df.select_dtypes(include=['object']).columns\n",
    "numerical_columns = df.select_dtypes(include=['int64', 'float64']).columns\n",
    "\n",
    "display(\"\\nAtributet kategorike:\", list(categorical_columns))\n",
    "display(\"\\nAtributet numerike :\", list(numerical_columns))"
   ]
  },
  {
   "cell_type": "markdown",
   "metadata": {},
   "source": [
    "<h3>Menaxhimi vlerave të zbrazëta (null)</h3>"
   ]
  },
  {
   "cell_type": "code",
   "execution_count": null,
   "metadata": {},
   "outputs": [],
   "source": [
    "null_counts = df.isnull().sum()\n",
    "\n",
    "display(null_counts)\n",
    "has_nulls = df.isnull().any()\n",
    "\n",
    "display('\\nAtributet që kanë vlera të zbrazëta (null):', ', '.join(has_nulls[has_nulls].index))"
   ]
  },
  {
   "cell_type": "markdown",
   "metadata": {},
   "source": [
    "<h3>Largimi i vlerave duplikate</h3>"
   ]
  },
  {
   "cell_type": "code",
   "execution_count": 6,
   "metadata": {},
   "outputs": [],
   "source": [
    "df = df.drop_duplicates()"
   ]
  },
  {
   "cell_type": "markdown",
   "metadata": {},
   "source": [
    "<h3>Paraqitja e kolones <strong>'temperature celsius'</strong> dhe largimi i outliers</h3>"
   ]
  },
  {
   "cell_type": "code",
   "execution_count": 16,
   "metadata": {},
   "outputs": [
    {
     "data": {
      "text/plain": [
       "count    31045.000000\n",
       "mean        25.792108\n",
       "std          6.288141\n",
       "min         10.000000\n",
       "25%         22.200000\n",
       "50%         26.500000\n",
       "75%         29.400000\n",
       "max         41.200000\n",
       "Name: temperature_celsius, dtype: float64"
      ]
     },
     "metadata": {},
     "output_type": "display_data"
    },
    {
     "data": {
      "image/png": "[encoded data removed]",
      "text/plain": [
       "<Figure size 640x480 with 1 Axes>"
      ]
     },
     "metadata": {},
     "output_type": "display_data"
    }
   ],
   "source": [
    "display(df['temperature_celsius'].describe())\n",
    "\n",
    "sns.boxplot(x=df['temperature_celsius'])\n",
    "plt.title('Boxplot of Temperature (Celsius)')\n",
    "plt.xlabel('Temperature (°C)')\n",
    "plt.show()"
   ]
  },
  {
   "cell_type": "code",
   "execution_count": null,
   "metadata": {},
   "outputs": [],
   "source": [
    "Q1 = df['temperature_celsius'].quantile(0.25) \n",
    "Q3 = df['temperature_celsius'].quantile(0.75) \n",
    "IQR = Q3 - Q1 \n",
    "\n",
    "lower_bound = Q1 - 1.5 * IQR\n",
    "upper_bound = Q3 + 1.5 * IQR\n",
    "\n",
    "df = df[~((df['temperature_celsius'] < lower_bound) | (df['temperature_celsius'] > upper_bound))]\n",
    "\n",
    "display(f\"Number of rows after removing outliers: {len(df)}\")"
   ]
  },
  {
   "cell_type": "code",
   "execution_count": 18,
   "metadata": {},
   "outputs": [
    {
     "data": {
      "text/plain": [
       "count    30232.000000\n",
       "mean        26.010859\n",
       "std          5.869057\n",
       "min         11.400000\n",
       "25%         22.500000\n",
       "50%         26.700000\n",
       "75%         29.400000\n",
       "max         40.100000\n",
       "Name: temperature_celsius, dtype: float64"
      ]
     },
     "metadata": {},
     "output_type": "display_data"
    },
    {
     "data": {
      "image/png": "[encoded data removed]",
      "text/plain": [
       "<Figure size 640x480 with 1 Axes>"
      ]
     },
     "metadata": {},
     "output_type": "display_data"
    }
   ],
   "source": [
    "display(df['temperature_celsius'].describe())\n",
    "\n",
    "sns.boxplot(x=df['temperature_celsius'])\n",
    "plt.title('Boxplot of Temperature (Celsius) After Removing Outliers')\n",
    "plt.xlabel('Temperature (°C)')\n",
    "plt.show()"
   ]
  }
 ],
 "metadata": {
  "kernelspec": {
   "display_name": "Python 3",
   "language": "python",
   "name": "python3"
  },
  "language_info": {
   "codemirror_mode": {
    "name": "ipython",
    "version": 3
   },
   "file_extension": ".py",
   "mimetype": "text/x-python",
   "name": "python",
   "nbconvert_exporter": "python",
   "pygments_lexer": "ipython3",
   "version": "3.10.12"
  }
 },
 "nbformat": 4,
 "nbformat_minor": 2
}
